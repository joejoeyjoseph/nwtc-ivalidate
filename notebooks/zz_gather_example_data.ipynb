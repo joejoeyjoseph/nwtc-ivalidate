{
 "cells": [
  {
   "cell_type": "code",
   "execution_count": 134,
   "metadata": {},
   "outputs": [],
   "source": [
    "# 20200612 JLCY\n",
    "\n",
    "from netCDF4 import Dataset\n",
    "import glob\n",
    "import wrf\n",
    "import xarray as xr\n",
    "import datetime\n",
    "import numpy as np"
   ]
  },
  {
   "cell_type": "markdown",
   "metadata": {},
   "source": [
    "## extract WRF data (from Eagle)"
   ]
  },
  {
   "cell_type": "code",
   "execution_count": 9,
   "metadata": {},
   "outputs": [
    {
     "name": "stdout",
     "output_type": "stream",
     "text": [
      "/Users/jlee/eagle/wfip2_wrf_from_eagle/wrfout_d02_2016-09-23_12:00:00\n"
     ]
    }
   ],
   "source": [
    "target_height = [ 40.,  50.,  60.,  80., 100., 120., 140., 160., 180., 200.] # agl\n",
    "\n",
    "lat_start, lat_end = 410, 560\n",
    "lon_start, lon_end = 390, 510\n",
    "\n",
    "wrf_target_dir = '/Users/jlee/eagle/wfip2_wrf_from_eagle/'\n",
    "output_dir = '/Users/jlee/eagle/wfip2_wrf_py/'\n",
    "\n",
    "wrf_file_list = glob.glob(wrf_target_dir+'*')\n",
    "wrf_file_list.sort()\n",
    "\n",
    "print(wrf_file_list[0])"
   ]
  },
  {
   "cell_type": "code",
   "execution_count": 8,
   "metadata": {},
   "outputs": [],
   "source": [
    "for file in wrf_file_list: \n",
    "\n",
    "    wrf_data = Dataset(file, 'r')\n",
    "\n",
    "    ua = wrf.getvar(wrf_data, 'ua')\n",
    "    va = wrf.getvar(wrf_data, 'va')\n",
    "    ght = wrf.g_geoht.get_height(wrf_data, msl=False)\n",
    "\n",
    "    ua_subset = ua[:, lat_start:lat_end, lon_start:lon_end]\n",
    "    va_subset = va[:, lat_start:lat_end, lon_start:lon_end]\n",
    "    ght_subset = ght[:, lat_start:lat_end, lon_start:lon_end]\n",
    "\n",
    "    ua_ght = wrf.interplevel(ua_subset, ght_subset, target_height)\n",
    "    va_ght = wrf.interplevel(va_subset, ght_subset, target_height)\n",
    "\n",
    "    del ua_ght.attrs['projection']\n",
    "    del va_ght.attrs['projection']\n",
    "\n",
    "    ds = xr.Dataset({'u': ua_ght, 'v': va_ght})\n",
    "    ds.to_netcdf(output_dir+file.split('/')[-1]+'.nc')"
   ]
  },
  {
   "cell_type": "code",
   "execution_count": null,
   "metadata": {},
   "outputs": [],
   "source": []
  },
  {
   "cell_type": "markdown",
   "metadata": {},
   "source": [
    "## extract WRF subset data (local)"
   ]
  },
  {
   "cell_type": "code",
   "execution_count": 114,
   "metadata": {},
   "outputs": [],
   "source": [
    "wrf_sub_dir = '/Users/jlee/eagle/wfip2_wrf_subset_from_eagle/'\n",
    "wrf_sub_file = 'wrfout_d02_2016-09-23_12:00:00.nc'\n",
    "wrf_sub_data = Dataset(wrf_sub_dir+wrf_sub_file, 'r')"
   ]
  },
  {
   "cell_type": "code",
   "execution_count": 8,
   "metadata": {},
   "outputs": [
    {
     "data": {
      "text/plain": [
       "<class 'netCDF4._netCDF4.Dataset'>\n",
       "root group (NETCDF4 data model, file format HDF5):\n",
       "    dimensions(sizes): south_north(150), west_east(120), level(10)\n",
       "    variables(dimensions): float32 XLONG(south_north,west_east), float32 XLAT(south_north,west_east), float32 XTIME(), int64 Time(), float64 level(level), float32 u(level,south_north,west_east), float32 v(level,south_north,west_east)\n",
       "    groups: "
      ]
     },
     "execution_count": 8,
     "metadata": {},
     "output_type": "execute_result"
    }
   ],
   "source": [
    "wrf_sub_data"
   ]
  },
  {
   "cell_type": "code",
   "execution_count": 142,
   "metadata": {},
   "outputs": [
    {
     "data": {
      "text/plain": [
       "5"
      ]
     },
     "execution_count": 142,
     "metadata": {},
     "output_type": "execute_result"
    }
   ],
   "source": [
    "np.where(wrf_sub_data['level'][:].data == 120)[0][0]"
   ]
  },
  {
   "cell_type": "code",
   "execution_count": 115,
   "metadata": {},
   "outputs": [
    {
     "data": {
      "text/plain": [
       "45.57153"
      ]
     },
     "execution_count": 115,
     "metadata": {},
     "output_type": "execute_result"
    }
   ],
   "source": [
    "wrf_sub_data['XLAT'][71][40]"
   ]
  },
  {
   "cell_type": "code",
   "execution_count": 116,
   "metadata": {},
   "outputs": [
    {
     "data": {
      "text/plain": [
       "-120.747986"
      ]
     },
     "execution_count": 116,
     "metadata": {},
     "output_type": "execute_result"
    }
   ],
   "source": [
    "wrf_sub_data['XLONG'][71][40]"
   ]
  },
  {
   "cell_type": "code",
   "execution_count": 117,
   "metadata": {},
   "outputs": [
    {
     "data": {
      "text/plain": [
       "masked_array(data=2.5444298,\n",
       "             mask=False,\n",
       "       fill_value=1e+20,\n",
       "            dtype=float32)"
      ]
     },
     "execution_count": 117,
     "metadata": {},
     "output_type": "execute_result"
    }
   ],
   "source": [
    "wrf_sub_data['u'][3, 71, 40]"
   ]
  },
  {
   "cell_type": "code",
   "execution_count": 118,
   "metadata": {},
   "outputs": [
    {
     "data": {
      "text/plain": [
       "masked_array(data=1.308059,\n",
       "             mask=False,\n",
       "       fill_value=1e+20,\n",
       "            dtype=float32)"
      ]
     },
     "execution_count": 118,
     "metadata": {},
     "output_type": "execute_result"
    }
   ],
   "source": [
    "wrf_sub_data['v'][3, 71, 40]"
   ]
  },
  {
   "cell_type": "code",
   "execution_count": 80,
   "metadata": {},
   "outputs": [],
   "source": [
    "s = wrf_sub_file.split('_')[2]+'_'+wrf_sub_file.split('_')[3].split('.')[0]\n",
    "t = datetime.datetime.strptime(s, \"%Y-%m-%d_%H:%M:%S\")"
   ]
  },
  {
   "cell_type": "code",
   "execution_count": 81,
   "metadata": {},
   "outputs": [
    {
     "data": {
      "text/plain": [
       "datetime.datetime(2016, 9, 23, 12, 0)"
      ]
     },
     "execution_count": 81,
     "metadata": {},
     "output_type": "execute_result"
    }
   ],
   "source": [
    "t"
   ]
  },
  {
   "cell_type": "code",
   "execution_count": 84,
   "metadata": {},
   "outputs": [
    {
     "data": {
      "text/plain": [
       "datetime.datetime(2016, 9, 23, 12, 50)"
      ]
     },
     "execution_count": 84,
     "metadata": {},
     "output_type": "execute_result"
    }
   ],
   "source": [
    "t + datetime.timedelta(seconds=3000)"
   ]
  },
  {
   "cell_type": "code",
   "execution_count": null,
   "metadata": {},
   "outputs": [],
   "source": []
  },
  {
   "cell_type": "code",
   "execution_count": null,
   "metadata": {},
   "outputs": [],
   "source": []
  },
  {
   "cell_type": "code",
   "execution_count": null,
   "metadata": {},
   "outputs": [],
   "source": []
  },
  {
   "cell_type": "code",
   "execution_count": 49,
   "metadata": {},
   "outputs": [
    {
     "data": {
      "text/plain": [
       "<class 'netCDF4._netCDF4.Variable'>\n",
       "float32 u(level, south_north, west_east)\n",
       "    _FillValue: 9.96921e+36\n",
       "    FieldType: 104\n",
       "    units: m s-1\n",
       "    stagger: \n",
       "    coordinates: XLONG XTIME XLAT Time\n",
       "    missing_value: 9.969209968386869e+36\n",
       "    vert_units: m\n",
       "unlimited dimensions: \n",
       "current shape = (10, 150, 120)\n",
       "filling on"
      ]
     },
     "execution_count": 49,
     "metadata": {},
     "output_type": "execute_result"
    }
   ],
   "source": [
    "wrf_sub_data['u']"
   ]
  },
  {
   "cell_type": "code",
   "execution_count": null,
   "metadata": {},
   "outputs": [],
   "source": []
  },
  {
   "cell_type": "code",
   "execution_count": null,
   "metadata": {},
   "outputs": [],
   "source": []
  },
  {
   "cell_type": "code",
   "execution_count": 54,
   "metadata": {},
   "outputs": [
    {
     "data": {
      "text/plain": [
       "masked_array(data=80.,\n",
       "             mask=False,\n",
       "       fill_value=1e+20)"
      ]
     },
     "execution_count": 54,
     "metadata": {},
     "output_type": "execute_result"
    }
   ],
   "source": [
    "wrf_sub_data['level'][3]"
   ]
  },
  {
   "cell_type": "code",
   "execution_count": null,
   "metadata": {},
   "outputs": [],
   "source": []
  },
  {
   "cell_type": "markdown",
   "metadata": {},
   "source": [
    "## examine ex1 data"
   ]
  },
  {
   "cell_type": "code",
   "execution_count": 4,
   "metadata": {},
   "outputs": [],
   "source": [
    "wrf_ex1_dir = '/Users/jlee/Documents/GitHub/nwtc-ivalidate/data/ex1/'\n",
    "wrf_ex1_file = 'cut_wrfout_d01_2016-03-07_09_00_00'\n",
    "wrf_ex1_data = Dataset(wrf_ex1_dir+wrf_ex1_file, 'r')"
   ]
  },
  {
   "cell_type": "code",
   "execution_count": 5,
   "metadata": {},
   "outputs": [
    {
     "data": {
      "text/plain": [
       "<class 'netCDF4._netCDF4.Dataset'>\n",
       "root group (NETCDF3_64BIT_OFFSET data model, file format NETCDF3):\n",
       "    TITLE:  OUTPUT FROM WRF V3.7+ MODEL\n",
       "    START_DATE: 2016-03-07_06:00:00\n",
       "    SIMULATION_START_DATE: 2016-03-07_06:00:00\n",
       "    WEST-EAST_GRID_DIMENSION: 1800\n",
       "    SOUTH-NORTH_GRID_DIMENSION: 1060\n",
       "    BOTTOM-TOP_GRID_DIMENSION: 51\n",
       "    DX: 3000.0\n",
       "    DY: 3000.0\n",
       "    SKEBS_ON: 0\n",
       "    SPEC_BDY_FINAL_MU: 0\n",
       "    USE_Q_DIABATIC: 0\n",
       "    GRIDTYPE: C\n",
       "    DIFF_OPT: 1\n",
       "    KM_OPT: 4\n",
       "    DAMP_OPT: 3\n",
       "    DAMPCOEF: 0.2\n",
       "    KHDIF: 0.0\n",
       "    KVDIF: 0.0\n",
       "    MP_PHYSICS: 28\n",
       "    RA_LW_PHYSICS: 4\n",
       "    RA_SW_PHYSICS: 4\n",
       "    SF_SFCLAY_PHYSICS: 5\n",
       "    SF_SURFACE_PHYSICS: 3\n",
       "    BL_PBL_PHYSICS: 5\n",
       "    CU_PHYSICS: 0\n",
       "    SF_LAKE_PHYSICS: 0\n",
       "    SURFACE_INPUT_SOURCE: 1\n",
       "    SST_UPDATE: 0\n",
       "    GRID_FDDA: 0\n",
       "    GFDDA_INTERVAL_M: 0\n",
       "    GFDDA_END_H: 0\n",
       "    GRID_SFDDA: 0\n",
       "    SGFDDA_INTERVAL_M: 0\n",
       "    SGFDDA_END_H: 0\n",
       "    HYPSOMETRIC_OPT: 2\n",
       "    USE_THETA_M: 0\n",
       "    SF_URBAN_PHYSICS: 0\n",
       "    SHCU_PHYSICS: 0\n",
       "    MFSHCONV: 0\n",
       "    FEEDBACK: 0\n",
       "    SMOOTH_OPTION: 0\n",
       "    SWRAD_SCAT: 1.0\n",
       "    W_DAMPING: 1\n",
       "    DT: 20.0\n",
       "    ADAPT_DT_START: 18.0\n",
       "    ADAPT_DT_MAX: 20.0\n",
       "    ADAPT_DT_MIN: 20.0\n",
       "    RADT: 15.0\n",
       "    BLDT: 0.0\n",
       "    CUDT: 0.0\n",
       "    AER_OPT: 2\n",
       "    SWINT_OPT: 1\n",
       "    AER_TYPE: 1\n",
       "    AER_AOD550_OPT: 1\n",
       "    AER_ANGEXP_OPT: 1\n",
       "    AER_SSA_OPT: 1\n",
       "    AER_ASY_OPT: 1\n",
       "    AER_AOD550_VAL: 0.12\n",
       "    AER_ANGEXP_VAL: 1.3\n",
       "    AER_SSA_VAL: 1e-45\n",
       "    AER_ASY_VAL: 1e-45\n",
       "    MOIST_ADV_OPT: 1\n",
       "    SCALAR_ADV_OPT: 1\n",
       "    TKE_ADV_OPT: 1\n",
       "    DIFF_6TH_OPT: 2\n",
       "    DIFF_6TH_FACTOR: 0.25\n",
       "    OBS_NUDGE_OPT: 0\n",
       "    BUCKET_MM: -1.0\n",
       "    BUCKET_J: -1.0\n",
       "    PREC_ACC_DT: 60.0\n",
       "    SF_OCEAN_PHYSICS: 0\n",
       "    ISFTCFLX: 0\n",
       "    ISHALLOW: 0\n",
       "    ISFFLX: 1\n",
       "    ICLOUD: 1\n",
       "    ICLOUD_CU: 0\n",
       "    TRACER_PBLMIX: 1\n",
       "    SCALAR_PBLMIX: 1\n",
       "    YSU_TOPDOWN_PBLMIX: 0\n",
       "    GRAV_SETTLING: 0\n",
       "    DFI_OPT: 0\n",
       "    SIMULATION_INITIALIZATION_TYPE: REAL-DATA CASE\n",
       "    WEST-EAST_PATCH_START_UNSTAG: 1\n",
       "    WEST-EAST_PATCH_END_UNSTAG: 1799\n",
       "    WEST-EAST_PATCH_START_STAG: 1\n",
       "    WEST-EAST_PATCH_END_STAG: 1800\n",
       "    SOUTH-NORTH_PATCH_START_UNSTAG: 1\n",
       "    SOUTH-NORTH_PATCH_END_UNSTAG: 1059\n",
       "    SOUTH-NORTH_PATCH_START_STAG: 1\n",
       "    SOUTH-NORTH_PATCH_END_STAG: 1060\n",
       "    BOTTOM-TOP_PATCH_START_UNSTAG: 1\n",
       "    BOTTOM-TOP_PATCH_END_UNSTAG: 50\n",
       "    BOTTOM-TOP_PATCH_START_STAG: 1\n",
       "    BOTTOM-TOP_PATCH_END_STAG: 51\n",
       "    GRID_ID: 1\n",
       "    PARENT_ID: 1\n",
       "    I_PARENT_START: 0\n",
       "    J_PARENT_START: 0\n",
       "    PARENT_GRID_RATIO: 1\n",
       "    CEN_LAT: 38.500004\n",
       "    CEN_LON: -97.5\n",
       "    TRUELAT1: 38.5\n",
       "    TRUELAT2: 38.5\n",
       "    MOAD_CEN_LAT: 38.500004\n",
       "    STAND_LON: -97.5\n",
       "    POLE_LAT: 90.0\n",
       "    POLE_LON: 0.0\n",
       "    GMT: 6.0\n",
       "    JULYR: 2016\n",
       "    JULDAY: 67\n",
       "    MAP_PROJ: 1\n",
       "    MAP_PROJ_CHAR: Lambert Conformal\n",
       "    MMINLU: MODIFIED_IGBP_MODIS_NOAH\n",
       "    NUM_LAND_CAT: 21\n",
       "    ISWATER: 17\n",
       "    ISLAKE: 21\n",
       "    ISICE: 15\n",
       "    ISURBAN: 13\n",
       "    ISOILWATER: 14\n",
       "    history: Mon Jun 13 14:25:30 2016: ncks -O -v XLAT,XLONG,WSPD80,Times /home/cdraxl/scratch/WFIP2/2016030706_mixl2/wrfout/wrfout_d01_2016-03-07_09_00_00 data/ex1/cut_wrfout_d01_2016-03-07_09_00_00\n",
       "    NCO: 4.0.5\n",
       "    dimensions(sizes): Time(1), DateStrLen(19), south_north(1059), west_east(1799)\n",
       "    variables(dimensions): |S1 Times(Time,DateStrLen), float32 WSPD80(Time,south_north,west_east), float32 XLAT(Time,south_north,west_east), float32 XLONG(Time,south_north,west_east)\n",
       "    groups: "
      ]
     },
     "execution_count": 5,
     "metadata": {},
     "output_type": "execute_result"
    }
   ],
   "source": [
    "wrf_ex1_data"
   ]
  },
  {
   "cell_type": "code",
   "execution_count": 13,
   "metadata": {},
   "outputs": [
    {
     "data": {
      "text/plain": [
       "masked_array(data=[b'2', b'0', b'1', b'6', b'-', b'0', b'3', b'-', b'0',\n",
       "                   b'7', b'_', b'0', b'9', b':', b'0', b'0', b':', b'0',\n",
       "                   b'0'],\n",
       "             mask=False,\n",
       "       fill_value=b'N/A',\n",
       "            dtype='|S1')"
      ]
     },
     "execution_count": 13,
     "metadata": {},
     "output_type": "execute_result"
    }
   ],
   "source": [
    "wrf_ex1_data['Times'][0]"
   ]
  },
  {
   "cell_type": "code",
   "execution_count": 50,
   "metadata": {},
   "outputs": [
    {
     "data": {
      "text/plain": [
       "<class 'netCDF4._netCDF4.Variable'>\n",
       "float32 WSPD80(Time, south_north, west_east)\n",
       "    FieldType: 104\n",
       "    MemoryOrder: XY \n",
       "    description: Wind Speed at 80 M\n",
       "    units: m s-1\n",
       "    stagger: \n",
       "    coordinates: XLONG XLAT XTIME\n",
       "unlimited dimensions: Time\n",
       "current shape = (1, 1059, 1799)\n",
       "filling on, default _FillValue of 9.969209968386869e+36 used"
      ]
     },
     "execution_count": 50,
     "metadata": {},
     "output_type": "execute_result"
    }
   ],
   "source": [
    "wrf_ex1_data['WSPD80']"
   ]
  },
  {
   "cell_type": "code",
   "execution_count": null,
   "metadata": {},
   "outputs": [],
   "source": []
  },
  {
   "cell_type": "markdown",
   "metadata": {},
   "source": [
    "## SODAR data"
   ]
  },
  {
   "cell_type": "code",
   "execution_count": 119,
   "metadata": {},
   "outputs": [
    {
     "name": "stdout",
     "output_type": "stream",
     "text": [
      "/Users/jlee/eagle/wfip2_sodar_from_eagle/sodar.z06.b0.20160923.120000.txt.a2e.nc\n"
     ]
    }
   ],
   "source": [
    "sodar_target_dir = '/Users/jlee/eagle/wfip2_sodar_from_eagle/'\n",
    "\n",
    "# 10-minute files\n",
    "sodar_file_list = glob.glob(sodar_target_dir+'*')\n",
    "sodar_file_list.sort()\n",
    "\n",
    "n = 72\n",
    "\n",
    "sodar_data = Dataset(sodar_file_list[n], 'r')\n",
    "print(sodar_file_list[n])"
   ]
  },
  {
   "cell_type": "code",
   "execution_count": 127,
   "metadata": {},
   "outputs": [],
   "source": [
    "sodar_data_check = Dataset(sodar_target_dir+'sodar.z06.b0.20160923.223000.txt.a2e.nc', 'r')"
   ]
  },
  {
   "cell_type": "code",
   "execution_count": 131,
   "metadata": {},
   "outputs": [
    {
     "data": {
      "text/plain": [
       "masked_array(data=5.44,\n",
       "             mask=False,\n",
       "       fill_value=1e+20,\n",
       "            dtype=float32)"
      ]
     },
     "execution_count": 131,
     "metadata": {},
     "output_type": "execute_result"
    }
   ],
   "source": [
    "sodar_data_check['wind_speed'][0,3]"
   ]
  },
  {
   "cell_type": "code",
   "execution_count": null,
   "metadata": {},
   "outputs": [],
   "source": []
  },
  {
   "cell_type": "code",
   "execution_count": 107,
   "metadata": {},
   "outputs": [
    {
     "data": {
      "text/plain": [
       "<class 'netCDF4._netCDF4.Dataset'>\n",
       "root group (NETCDF3_CLASSIC data model, file format NETCDF3):\n",
       "    Conventions: CF-1.6\n",
       "    history: 2017-04-13 05:45:25 created by libingest-1.0 using wfip2_sodar-1.0 (build version: v1.1.0)\n",
       "    dimensions(sizes): time(1), height(10), bounds(2)\n",
       "    variables(dimensions): float64 time(time), float64 time_bounds(time,bounds), float32 height(height), float32 wind_speed(time,height), float32 wind_direction(time,height), float32 vertical_air_velocity(time,height), float64 latitude(), float64 longitude(), float64 altitude()\n",
       "    groups: "
      ]
     },
     "execution_count": 107,
     "metadata": {},
     "output_type": "execute_result"
    }
   ],
   "source": [
    "sodar_data"
   ]
  },
  {
   "cell_type": "code",
   "execution_count": 120,
   "metadata": {},
   "outputs": [
    {
     "data": {
      "text/plain": [
       "<class 'netCDF4._netCDF4.Variable'>\n",
       "float64 time(time)\n",
       "    long_name: time offset from midnight\n",
       "    standard_name: time\n",
       "    units: seconds since 2016-09-23 00:00:00 0:00\n",
       "    bounds: time_bounds\n",
       "unlimited dimensions: time\n",
       "current shape = (1,)\n",
       "filling on, default _FillValue of 9.969209968386869e+36 used"
      ]
     },
     "execution_count": 120,
     "metadata": {},
     "output_type": "execute_result"
    }
   ],
   "source": [
    "sodar_data['time']"
   ]
  },
  {
   "cell_type": "code",
   "execution_count": 121,
   "metadata": {},
   "outputs": [
    {
     "data": {
      "text/plain": [
       "'seconds since 2016-09-23 00:00:00 0:00'"
      ]
     },
     "execution_count": 121,
     "metadata": {},
     "output_type": "execute_result"
    }
   ],
   "source": [
    "sodar_data['time'].units"
   ]
  },
  {
   "cell_type": "code",
   "execution_count": 122,
   "metadata": {},
   "outputs": [
    {
     "data": {
      "text/plain": [
       "'2016-09-23_00:00:00'"
      ]
     },
     "execution_count": 122,
     "metadata": {},
     "output_type": "execute_result"
    }
   ],
   "source": [
    "'_'.join(sodar_data['time'].units.split(' ')[2:4])"
   ]
  },
  {
   "cell_type": "code",
   "execution_count": 123,
   "metadata": {},
   "outputs": [
    {
     "data": {
      "text/plain": [
       "masked_array(data=43200.,\n",
       "             mask=False,\n",
       "       fill_value=1e+20)"
      ]
     },
     "execution_count": 123,
     "metadata": {},
     "output_type": "execute_result"
    }
   ],
   "source": [
    "sodar_data['time'][0]"
   ]
  },
  {
   "cell_type": "code",
   "execution_count": 105,
   "metadata": {},
   "outputs": [
    {
     "data": {
      "text/plain": [
       "<class 'netCDF4._netCDF4.Variable'>\n",
       "float64 time_bounds(time, bounds)\n",
       "unlimited dimensions: time\n",
       "current shape = (1, 2)\n",
       "filling on, default _FillValue of 9.969209968386869e+36 used"
      ]
     },
     "execution_count": 105,
     "metadata": {},
     "output_type": "execute_result"
    }
   ],
   "source": [
    "sodar_data['time_bounds']"
   ]
  },
  {
   "cell_type": "code",
   "execution_count": 126,
   "metadata": {},
   "outputs": [
    {
     "data": {
      "text/plain": [
       "masked_array(data=8.94,\n",
       "             mask=False,\n",
       "       fill_value=1e+20,\n",
       "            dtype=float32)"
      ]
     },
     "execution_count": 126,
     "metadata": {},
     "output_type": "execute_result"
    }
   ],
   "source": [
    "sodar_data['wind_speed'][0, 3]"
   ]
  },
  {
   "cell_type": "code",
   "execution_count": null,
   "metadata": {},
   "outputs": [],
   "source": []
  },
  {
   "cell_type": "code",
   "execution_count": null,
   "metadata": {},
   "outputs": [],
   "source": []
  },
  {
   "cell_type": "code",
   "execution_count": 50,
   "metadata": {},
   "outputs": [
    {
     "data": {
      "text/plain": [
       "masked_array(data=45.57451,\n",
       "             mask=False,\n",
       "       fill_value=1e+20)"
      ]
     },
     "execution_count": 50,
     "metadata": {},
     "output_type": "execute_result"
    }
   ],
   "source": [
    "sodar_data['latitude'][0]"
   ]
  },
  {
   "cell_type": "code",
   "execution_count": 51,
   "metadata": {},
   "outputs": [
    {
     "data": {
      "text/plain": [
       "masked_array(data=-120.74734,\n",
       "             mask=False,\n",
       "       fill_value=1e+20)"
      ]
     },
     "execution_count": 51,
     "metadata": {},
     "output_type": "execute_result"
    }
   ],
   "source": [
    "sodar_data['longitude'][0]"
   ]
  },
  {
   "cell_type": "code",
   "execution_count": 52,
   "metadata": {},
   "outputs": [
    {
     "data": {
      "text/plain": [
       "masked_array(data=0.,\n",
       "             mask=False,\n",
       "       fill_value=1e+20)"
      ]
     },
     "execution_count": 52,
     "metadata": {},
     "output_type": "execute_result"
    }
   ],
   "source": [
    "sodar_data['time'][0]"
   ]
  },
  {
   "cell_type": "code",
   "execution_count": 63,
   "metadata": {},
   "outputs": [
    {
     "data": {
      "text/plain": [
       "array([[2.82000e+00, 2.93000e+00, 2.88000e+00, 2.48000e+00, 3.21000e+00,\n",
       "        2.74000e+00, 3.11000e+00, 3.36000e+00, 2.59000e+00, 9.96921e+36]],\n",
       "      dtype=float32)"
      ]
     },
     "execution_count": 63,
     "metadata": {},
     "output_type": "execute_result"
    }
   ],
   "source": [
    "sodar_data['wind_speed'][:].data"
   ]
  },
  {
   "cell_type": "code",
   "execution_count": 64,
   "metadata": {},
   "outputs": [
    {
     "data": {
      "text/plain": [
       "<class 'netCDF4._netCDF4.Variable'>\n",
       "float32 wind_speed(time, height)\n",
       "    long_name: wind speed\n",
       "    standard_name: wind_speed\n",
       "    units: m/s\n",
       "    cell_methods: time: mean\n",
       "unlimited dimensions: time\n",
       "current shape = (1, 10)\n",
       "filling on, default _FillValue of 9.969209968386869e+36 used"
      ]
     },
     "execution_count": 64,
     "metadata": {},
     "output_type": "execute_result"
    }
   ],
   "source": [
    "sodar_data['wind_speed']"
   ]
  },
  {
   "cell_type": "code",
   "execution_count": 16,
   "metadata": {},
   "outputs": [
    {
     "data": {
      "text/plain": [
       "array([ 40.,  50.,  60.,  80., 100., 120., 140., 160., 180., 200.],\n",
       "      dtype=float32)"
      ]
     },
     "execution_count": 16,
     "metadata": {},
     "output_type": "execute_result"
    }
   ],
   "source": [
    "sodar_data['height'][:].data"
   ]
  },
  {
   "cell_type": "code",
   "execution_count": 132,
   "metadata": {},
   "outputs": [
    {
     "data": {
      "text/plain": [
       "array([False, False, False, False, False,  True, False, False, False,\n",
       "       False])"
      ]
     },
     "execution_count": 132,
     "metadata": {},
     "output_type": "execute_result"
    }
   ],
   "source": [
    "sodar_data['height'][:].data == 120"
   ]
  },
  {
   "cell_type": "code",
   "execution_count": 141,
   "metadata": {},
   "outputs": [
    {
     "data": {
      "text/plain": [
       "5"
      ]
     },
     "execution_count": 141,
     "metadata": {},
     "output_type": "execute_result"
    }
   ],
   "source": [
    "np.where(sodar_data['height'][:].data == 120)[0][0]"
   ]
  },
  {
   "cell_type": "code",
   "execution_count": 138,
   "metadata": {},
   "outputs": [
    {
     "data": {
      "text/plain": [
       "array([120.], dtype=float32)"
      ]
     },
     "execution_count": 138,
     "metadata": {},
     "output_type": "execute_result"
    }
   ],
   "source": [
    "sodar_data['height'][:].data[np.where(sodar_data['height'][:].data == 120)]"
   ]
  },
  {
   "cell_type": "code",
   "execution_count": null,
   "metadata": {},
   "outputs": [],
   "source": []
  },
  {
   "cell_type": "code",
   "execution_count": null,
   "metadata": {},
   "outputs": [],
   "source": [
    "sodar_data['wind_speed']"
   ]
  }
 ],
 "metadata": {
  "kernelspec": {
   "display_name": "Python (wfip)",
   "language": "python",
   "name": "wfip"
  },
  "language_info": {
   "codemirror_mode": {
    "name": "ipython",
    "version": 3
   },
   "file_extension": ".py",
   "mimetype": "text/x-python",
   "name": "python",
   "nbconvert_exporter": "python",
   "pygments_lexer": "ipython3",
   "version": "3.8.3"
  },
  "toc": {
   "base_numbering": 1,
   "nav_menu": {},
   "number_sections": true,
   "sideBar": true,
   "skip_h1_title": false,
   "title_cell": "Table of Contents",
   "title_sidebar": "Contents",
   "toc_cell": false,
   "toc_position": {},
   "toc_section_display": true,
   "toc_window_display": false
  }
 },
 "nbformat": 4,
 "nbformat_minor": 4
}
