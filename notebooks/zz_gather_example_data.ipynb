{
 "cells": [
  {
   "cell_type": "code",
   "execution_count": 1,
   "metadata": {},
   "outputs": [],
   "source": [
    "# 20200612 JLCY\n",
    "\n",
    "from netCDF4 import Dataset\n",
    "import glob\n",
    "import wrf\n",
    "import xarray as xr"
   ]
  },
  {
   "cell_type": "markdown",
   "metadata": {},
   "source": [
    "## extract WRF data (from Eagle)"
   ]
  },
  {
   "cell_type": "code",
   "execution_count": null,
   "metadata": {},
   "outputs": [],
   "source": [
    "target_height = [ 40.,  50.,  60.,  80., 100., 120., 140., 160., 180., 200.] # agl\n",
    "\n",
    "lat_start, lat_end = 410, 560\n",
    "lon_start, lon_end = 390, 510\n",
    "\n",
    "wrf_target_dir = '/Users/jlee/eagle/wfip2_wrf_from_eagle/'\n",
    "output_dir = '/Users/jlee/eagle/wfip2_wrf_py/'"
   ]
  },
  {
   "cell_type": "code",
   "execution_count": 2,
   "metadata": {},
   "outputs": [],
   "source": [
    "wrf_file_list = glob.glob(wrf_target_dir+'*')\n",
    "wrf_file_list.sort()"
   ]
  },
  {
   "cell_type": "code",
   "execution_count": 3,
   "metadata": {},
   "outputs": [
    {
     "data": {
      "text/plain": [
       "'/Users/jlee/eagle/wfip2_wrf_from_eagle/wrfout_d02_2016-09-23_12:00:00'"
      ]
     },
     "execution_count": 3,
     "metadata": {},
     "output_type": "execute_result"
    }
   ],
   "source": [
    "wrf_file_list[0]"
   ]
  },
  {
   "cell_type": "code",
   "execution_count": 8,
   "metadata": {},
   "outputs": [],
   "source": [
    "for file in wrf_file_list: \n",
    "\n",
    "    wrf_data = Dataset(file, 'r')\n",
    "\n",
    "    ua = wrf.getvar(wrf_data, 'ua')\n",
    "    va = wrf.getvar(wrf_data, 'va')\n",
    "    ght = wrf.g_geoht.get_height(wrf_data, msl=False)\n",
    "\n",
    "    ua_subset = ua[:, lat_start:lat_end, lon_start:lon_end]\n",
    "    va_subset = va[:, lat_start:lat_end, lon_start:lon_end]\n",
    "    ght_subset = ght[:, lat_start:lat_end, lon_start:lon_end]\n",
    "\n",
    "    ua_ght = wrf.interplevel(ua_subset, ght_subset, target_height)\n",
    "    va_ght = wrf.interplevel(va_subset, ght_subset, target_height)\n",
    "\n",
    "    del ua_ght.attrs['projection']\n",
    "    del va_ght.attrs['projection']\n",
    "\n",
    "    ds = xr.Dataset({'u': ua_ght, 'v': va_ght})\n",
    "    ds.to_netcdf(output_dir+file.split('/')[-1]+'.nc')"
   ]
  },
  {
   "cell_type": "code",
   "execution_count": 5,
   "metadata": {},
   "outputs": [],
   "source": []
  },
  {
   "cell_type": "code",
   "execution_count": null,
   "metadata": {},
   "outputs": [],
   "source": []
  },
  {
   "cell_type": "code",
   "execution_count": null,
   "metadata": {},
   "outputs": [],
   "source": []
  },
  {
   "cell_type": "code",
   "execution_count": null,
   "metadata": {},
   "outputs": [],
   "source": []
  },
  {
   "cell_type": "code",
   "execution_count": null,
   "metadata": {},
   "outputs": [],
   "source": []
  },
  {
   "cell_type": "markdown",
   "metadata": {},
   "source": [
    "## SODAR data"
   ]
  },
  {
   "cell_type": "code",
   "execution_count": 13,
   "metadata": {},
   "outputs": [],
   "source": [
    "sodar_target_dir = '/Users/jlee/eagle/wfip2_sodar_from_eagle/'\n",
    "\n",
    "# 10-minute files\n",
    "sodar_file_list = glob.glob(sodar_target_dir+'*')\n",
    "\n",
    "sodar_data = Dataset(sodar_file_list[0], 'r')"
   ]
  },
  {
   "cell_type": "code",
   "execution_count": 49,
   "metadata": {},
   "outputs": [
    {
     "data": {
      "text/plain": [
       "<class 'netCDF4._netCDF4.Dataset'>\n",
       "root group (NETCDF3_CLASSIC data model, file format NETCDF3):\n",
       "    Conventions: CF-1.6\n",
       "    history: 2017-04-13 05:42:20 created by libingest-1.0 using wfip2_sodar-1.0 (build version: v1.1.0)\n",
       "    dimensions(sizes): time(1), height(10), bounds(2)\n",
       "    variables(dimensions): float64 time(time), float64 time_bounds(time,bounds), float32 height(height), float32 wind_speed(time,height), float32 wind_direction(time,height), float32 vertical_air_velocity(time,height), float64 latitude(), float64 longitude(), float64 altitude()\n",
       "    groups: "
      ]
     },
     "execution_count": 49,
     "metadata": {},
     "output_type": "execute_result"
    }
   ],
   "source": [
    "sodar_data"
   ]
  },
  {
   "cell_type": "code",
   "execution_count": 50,
   "metadata": {},
   "outputs": [
    {
     "data": {
      "text/plain": [
       "masked_array(data=45.57451,\n",
       "             mask=False,\n",
       "       fill_value=1e+20)"
      ]
     },
     "execution_count": 50,
     "metadata": {},
     "output_type": "execute_result"
    }
   ],
   "source": [
    "sodar_data['latitude'][0]"
   ]
  },
  {
   "cell_type": "code",
   "execution_count": 51,
   "metadata": {},
   "outputs": [
    {
     "data": {
      "text/plain": [
       "masked_array(data=-120.74734,\n",
       "             mask=False,\n",
       "       fill_value=1e+20)"
      ]
     },
     "execution_count": 51,
     "metadata": {},
     "output_type": "execute_result"
    }
   ],
   "source": [
    "sodar_data['longitude'][0]"
   ]
  },
  {
   "cell_type": "code",
   "execution_count": 52,
   "metadata": {},
   "outputs": [
    {
     "data": {
      "text/plain": [
       "masked_array(data=0.,\n",
       "             mask=False,\n",
       "       fill_value=1e+20)"
      ]
     },
     "execution_count": 52,
     "metadata": {},
     "output_type": "execute_result"
    }
   ],
   "source": [
    "sodar_data['time'][0]"
   ]
  },
  {
   "cell_type": "code",
   "execution_count": 63,
   "metadata": {},
   "outputs": [
    {
     "data": {
      "text/plain": [
       "array([[2.82000e+00, 2.93000e+00, 2.88000e+00, 2.48000e+00, 3.21000e+00,\n",
       "        2.74000e+00, 3.11000e+00, 3.36000e+00, 2.59000e+00, 9.96921e+36]],\n",
       "      dtype=float32)"
      ]
     },
     "execution_count": 63,
     "metadata": {},
     "output_type": "execute_result"
    }
   ],
   "source": [
    "sodar_data['wind_speed'][:].data"
   ]
  },
  {
   "cell_type": "code",
   "execution_count": 64,
   "metadata": {},
   "outputs": [
    {
     "data": {
      "text/plain": [
       "<class 'netCDF4._netCDF4.Variable'>\n",
       "float32 wind_speed(time, height)\n",
       "    long_name: wind speed\n",
       "    standard_name: wind_speed\n",
       "    units: m/s\n",
       "    cell_methods: time: mean\n",
       "unlimited dimensions: time\n",
       "current shape = (1, 10)\n",
       "filling on, default _FillValue of 9.969209968386869e+36 used"
      ]
     },
     "execution_count": 64,
     "metadata": {},
     "output_type": "execute_result"
    }
   ],
   "source": [
    "sodar_data['wind_speed']"
   ]
  },
  {
   "cell_type": "code",
   "execution_count": 16,
   "metadata": {},
   "outputs": [
    {
     "data": {
      "text/plain": [
       "array([ 40.,  50.,  60.,  80., 100., 120., 140., 160., 180., 200.],\n",
       "      dtype=float32)"
      ]
     },
     "execution_count": 16,
     "metadata": {},
     "output_type": "execute_result"
    }
   ],
   "source": [
    "sodar_data['height'][:].data"
   ]
  },
  {
   "cell_type": "code",
   "execution_count": null,
   "metadata": {},
   "outputs": [],
   "source": []
  }
 ],
 "metadata": {
  "kernelspec": {
   "display_name": "Python (wfip)",
   "language": "python",
   "name": "wfip"
  },
  "language_info": {
   "codemirror_mode": {
    "name": "ipython",
    "version": 3
   },
   "file_extension": ".py",
   "mimetype": "text/x-python",
   "name": "python",
   "nbconvert_exporter": "python",
   "pygments_lexer": "ipython3",
   "version": "3.8.3"
  },
  "toc": {
   "base_numbering": 1,
   "nav_menu": {},
   "number_sections": true,
   "sideBar": true,
   "skip_h1_title": false,
   "title_cell": "Table of Contents",
   "title_sidebar": "Contents",
   "toc_cell": false,
   "toc_position": {},
   "toc_section_display": true,
   "toc_window_display": false
  }
 },
 "nbformat": 4,
 "nbformat_minor": 4
}
