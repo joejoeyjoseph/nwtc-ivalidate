{
 "cells": [
  {
   "cell_type": "code",
   "execution_count": 1,
   "metadata": {},
   "outputs": [
    {
     "name": "stdout",
     "output_type": "stream",
     "text": [
      "['rmse', 'bias', 'bias_pct', 'mae', 'mae_pct']\n",
      "[<metrics.rmse.rmse object at 0x10c1137f0>, <metrics.bias.bias object at 0x10c1138e0>, <metrics.bias_pct.bias_pct object at 0x10c0ef190>, <metrics.mae.mae object at 0x10c1551f0>, <metrics.mae_pct.mae_pct object at 0x10c155940>]\n",
      "compare\n",
      "data/ex1\n",
      "                              WSPD80\n",
      "2016-03-07 09:00:00.000000  3.711220\n",
      "2016-03-07 09:08:16.551724  3.830182\n",
      "2016-03-07 09:16:33.103448  3.949145\n",
      "2016-03-07 09:24:49.655172  4.068107\n",
      "2016-03-07 09:33:06.206897  4.187070\n",
      "                             WSPD80\n",
      "2016-03-07 09:00:00.000000  2.24730\n",
      "2016-03-07 09:08:16.551724  2.59561\n",
      "2016-03-07 09:16:33.103448  2.94392\n",
      "2016-03-07 09:24:49.655172  3.29223\n",
      "2016-03-07 09:33:06.206897  3.64054\n",
      "[3.71121955 3.8301821  3.94914465 4.0681072  4.18706975 4.3060323\n",
      " 4.42499486 4.54395741 4.21189518 3.72949136 3.24708754 2.76468372\n",
      " 2.28227989 1.79987607 1.31747225] [2.24730015 2.59561009 2.94392004 3.29222998 3.64053993 3.98884987\n",
      " 4.33715981 4.68546976 4.42524502 3.96217538 3.49910575 3.03603611\n",
      " 2.57296647 2.10989684 1.6468272 ]\n",
      "[ 1.4639194   1.23457201  1.00522461  0.77587722  0.54652983  0.31718243\n",
      "  0.08783504 -0.14151235 -0.21334984 -0.23268402 -0.25201821 -0.27135239\n",
      " -0.29068658 -0.31002076 -0.32935495]\n",
      "[{'path': 'data/ex2', 'var': 'WSPD80', 'location': {'lat': 46.5902, 'lon': -120.6707}, 'rmse': 0.6445991975706125, 'bias': 0.22601076240604032, 'bias_pct': 3.4435608535084494, 'mae': 0.4981413103970641, 'mae_pct': 15.037599980832878}]\n",
      "<built-in method keys of dict object at 0x11fd23680>\n"
     ]
    }
   ],
   "source": [
    "%run -i '../compare.py'"
   ]
  },
  {
   "cell_type": "code",
   "execution_count": 1,
   "metadata": {},
   "outputs": [
    {
     "ename": "KeyError",
     "evalue": "'window'",
     "output_type": "error",
     "traceback": [
      "\u001b[0;31m---------------------------------------------------------------------------\u001b[0m",
      "\u001b[0;31mKeyError\u001b[0m                                  Traceback (most recent call last)",
      "\u001b[0;32m~/Documents/GitHub/nwtc-ivalidate/compare.py\u001b[0m in \u001b[0;36m<module>\u001b[0;34m\u001b[0m\n\u001b[1;32m    162\u001b[0m \u001b[0;31m#print(json.dumps(results))\u001b[0m\u001b[0;34m\u001b[0m\u001b[0;34m\u001b[0m\u001b[0;34m\u001b[0m\u001b[0m\n\u001b[1;32m    163\u001b[0m \u001b[0;34m\u001b[0m\u001b[0m\n\u001b[0;32m--> 164\u001b[0;31m \u001b[0mprint\u001b[0m\u001b[0;34m(\u001b[0m\u001b[0mconf\u001b[0m\u001b[0;34m[\u001b[0m\u001b[0;34m\"window\"\u001b[0m\u001b[0;34m]\u001b[0m\u001b[0;34m[\u001b[0m\u001b[0;34m\"lower\"\u001b[0m\u001b[0;34m]\u001b[0m\u001b[0;34m)\u001b[0m\u001b[0;34m\u001b[0m\u001b[0;34m\u001b[0m\u001b[0m\n\u001b[0m\u001b[1;32m    165\u001b[0m \u001b[0;34m\u001b[0m\u001b[0m\n\u001b[1;32m    166\u001b[0m \u001b[0;31m#print(results[0].keys[0])\u001b[0m\u001b[0;34m\u001b[0m\u001b[0;34m\u001b[0m\u001b[0;34m\u001b[0m\u001b[0m\n",
      "\u001b[0;31mKeyError\u001b[0m: 'window'"
     ]
    }
   ],
   "source": [
    "%run -i '../compare.py'"
   ]
  },
  {
   "cell_type": "code",
   "execution_count": null,
   "metadata": {},
   "outputs": [],
   "source": []
  },
  {
   "cell_type": "code",
   "execution_count": null,
   "metadata": {},
   "outputs": [],
   "source": []
  },
  {
   "cell_type": "code",
   "execution_count": null,
   "metadata": {},
   "outputs": [],
   "source": []
  },
  {
   "cell_type": "code",
   "execution_count": null,
   "metadata": {},
   "outputs": [],
   "source": []
  },
  {
   "cell_type": "code",
   "execution_count": null,
   "metadata": {},
   "outputs": [],
   "source": []
  },
  {
   "cell_type": "code",
   "execution_count": null,
   "metadata": {},
   "outputs": [],
   "source": []
  },
  {
   "cell_type": "code",
   "execution_count": null,
   "metadata": {},
   "outputs": [],
   "source": []
  },
  {
   "cell_type": "code",
   "execution_count": null,
   "metadata": {},
   "outputs": [],
   "source": []
  },
  {
   "cell_type": "code",
   "execution_count": null,
   "metadata": {},
   "outputs": [],
   "source": []
  },
  {
   "cell_type": "code",
   "execution_count": null,
   "metadata": {},
   "outputs": [],
   "source": []
  },
  {
   "cell_type": "code",
   "execution_count": null,
   "metadata": {},
   "outputs": [],
   "source": []
  },
  {
   "cell_type": "code",
   "execution_count": null,
   "metadata": {},
   "outputs": [],
   "source": []
  },
  {
   "cell_type": "code",
   "execution_count": null,
   "metadata": {},
   "outputs": [],
   "source": []
  }
 ],
 "metadata": {
  "kernelspec": {
   "display_name": "Python (wfip)",
   "language": "python",
   "name": "wfip"
  },
  "language_info": {
   "codemirror_mode": {
    "name": "ipython",
    "version": 3
   },
   "file_extension": ".py",
   "mimetype": "text/x-python",
   "name": "python",
   "nbconvert_exporter": "python",
   "pygments_lexer": "ipython3",
   "version": "3.8.3"
  },
  "toc": {
   "base_numbering": 1,
   "nav_menu": {},
   "number_sections": true,
   "sideBar": true,
   "skip_h1_title": false,
   "title_cell": "Table of Contents",
   "title_sidebar": "Contents",
   "toc_cell": false,
   "toc_position": {},
   "toc_section_display": true,
   "toc_window_display": false
  }
 },
 "nbformat": 4,
 "nbformat_minor": 4
}
