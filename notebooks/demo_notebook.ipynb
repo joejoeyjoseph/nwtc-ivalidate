{
 "cells": [
  {
   "cell_type": "markdown",
   "metadata": {},
   "source": [
    "## Demonstration Jupyter Notebook on i-validate"
   ]
  },
  {
   "cell_type": "markdown",
   "metadata": {},
   "source": [
    "Usage: \n",
    "\n",
    "1. Edit `config.yaml`\n",
    "    \n",
    "    1. Choose validation `location`, `time window`, `metrics`, and `height levels`\n",
    "    2. Put data sets in the specified `path` in `config.yaml`\n",
    "\n",
    "3. Run one of the following lines with `Shift` + `Return`/`Enter`\n",
    "\n",
    "    1. For Windows machine, please run the first line\n",
    "    2. For Mac and Linux machine, please run the second line\n",
    "    3. You can edit and comment out either line with `#`"
   ]
  },
  {
   "cell_type": "code",
   "execution_count": 1,
   "metadata": {
    "scrolled": false
   },
   "outputs": [
    {
     "name": "stdout",
     "output_type": "stream",
     "text": [
      "validation start time: 2016-09-23 12:00:00\n",
      "validation end time: 2016-09-25 12:00:00\n",
      "location: {'lat': 45.57451, 'lon': -120.74734}\n",
      "variable: wind_speed\n",
      "truth: sodar\n",
      "\n",
      "#########################################################################\n",
      "\n",
      "height a.g.l.: 40\n",
      "detect masked value at 2016-09-23 16:10:00, convert to NaN\n",
      "detect masked value at 2016-09-23 16:20:00, convert to NaN\n",
      "read in sodar_ws from 2016-09-23 00:00:00 to 2016-09-25 23:50:00 every 10 minutes, total of 432 files\n",
      "checkkk\n",
      "read in wrf_ws from 2016-09-23 12:00:00 to 2016-09-25 12:00:00 every 5 minutes, total of 577 files\n",
      "evaluate from 2016-09-23 12:00:00 to 2016-09-25 12:00:00 every 10.0 minutes, total of 289 time steps\n",
      "289\n",
      "287\n",
      "rmse: 0.481\n",
      "bias: -0.481\n",
      "bias_pct: -14.859\n",
      "mae: 1.464\n",
      "mae_pct: 33.934\n"
     ]
    }
   ],
   "source": [
    "# For Windows: \n",
    "# %run -i ../compare.py\n",
    "\n",
    "# For Mac and Linux: \n",
    "%run -i '../compare.py'"
   ]
  },
  {
   "cell_type": "code",
   "execution_count": null,
   "metadata": {},
   "outputs": [],
   "source": []
  },
  {
   "cell_type": "code",
   "execution_count": 1,
   "metadata": {
    "scrolled": false
   },
   "outputs": [
    {
     "name": "stdout",
     "output_type": "stream",
     "text": [
      "validation start time: 2016-09-23 12:00:00\n",
      "validation end time: 2016-09-25 12:00:00\n",
      "location: {'lat': 45.57451, 'lon': -120.74734}\n",
      "baseline dataset: sodar\n",
      "variable: sodar_ws\n",
      "\n",
      "#########################################################################\n",
      "\n",
      "height a.g.l.: 40\n",
      "read in sodar_ws from 2016-09-24 00:00:00 to 2016-09-25 23:50:00 every 10 minutes, total of 289 files\n",
      "!!!!!!!!!!\n",
      "!!!!!!!!!!\n",
      "WARNING: sodar_ws DATA FILE NUMBER (289) DOES NOT MATCH DESIRED DATA LENGTH (288.0), WHICH IS DEFINED BY DATA START TIME (2016-09-24 00:00:00), DATA END TIME (2016-09-25 23:50:00), AND USER-INPUT DATA FREQUENCY (10)\n",
      "!!!!!!!!!!\n",
      "!!!!!!!!!!\n",
      "DETECT 2 ROWS IN DATAFRAME ARE DUPLICATED\n",
      "THEY ARE:\n",
      "                     sodar_ws\n",
      "t                            \n",
      "2016-09-24 17:00:00      5.19\n",
      "2016-09-24 17:10:00      4.03\n",
      "REMOVE DUPLICATED ROWS\n",
      "verify data again...\n",
      "read in sodar_ws from 2016-09-24 00:00:00 to 2016-09-25 23:50:00 every 10 minutes, total of 287 files\n",
      "!!!!!!!!!!\n",
      "!!!!!!!!!!\n",
      "WARNING: sodar_ws DATA FILE NUMBER (287) DOES NOT MATCH DESIRED DATA LENGTH (288.0), WHICH IS DEFINED BY DATA START TIME (2016-09-24 00:00:00), DATA END TIME (2016-09-25 23:50:00), AND USER-INPUT DATA FREQUENCY (10)\n",
      "!!!!!!!!!!\n",
      "!!!!!!!!!!\n",
      "DETECT 1 ROWS IN DATAFRAME ARE MISSING\n",
      "THEY ARE:\n",
      "['2016-09-24 18:00:00']\n",
      "verify data again...\n",
      "read in sodar_ws from 2016-09-24 00:00:00 to 2016-09-25 23:50:00 every 10 minutes, total of 288 files\n",
      "--- sodar_ws dataframe should have unique and continuous data ---\n",
      "read in wrf_ws from 2016-09-23 12:00:00 to 2016-09-25 12:00:00 every 5 minutes, total of 577 files\n",
      "--- wrf_ws dataframe should have unique and continuous data ---\n",
      "evaluate sodar_ws, wrf_ws from 2016-09-24 00:00:00 to 2016-09-25 12:00:00 every 10.0 minutes, total of 217 time steps\n",
      "!!!!!!!!!!\n",
      "!!!!!!!!!!\n",
      "WARNING: DESIERED EVALUATION DURATION DOES NOT MATCH DATA DURATION\n",
      "DESIRED: FROM 2016-09-23 12:00:00 TO 2016-09-25 12:00:00\n",
      "DATA: FROM 2016-09-24 00:00:00 TO 2016-09-25 12:00:00\n",
      "!!!!!!!!!!\n",
      "!!!!!!!!!!\n",
      "!!!!!!!!!!\n",
      "!!!!!!!!!!\n",
      "WARNING: DATA FREQUENCY DOES NOT MATCH DESIRED EVALUATION PERIOD FREQUENCY\n",
      "SHOULD HAVE 289.0 TIME STEPS IN DATA\n",
      "ONLY HAVE 217 TIME STEPS IN DATA\n",
      "!!!!!!!!!!\n",
      "!!!!!!!!!!\n",
      "for calculating metrics, removing the following time steps that contain NaN values:\n",
      "['2016-09-24 18:00:00']\n",
      "217\n",
      "216\n",
      "rmse: 0.684\n",
      "bias: -0.684\n",
      "bias_pct: -19.721\n",
      "mae: 1.538\n",
      "mae_pct: 37.09\n"
     ]
    }
   ],
   "source": [
    "%run -i '../compare.py'"
   ]
  },
  {
   "cell_type": "code",
   "execution_count": null,
   "metadata": {},
   "outputs": [],
   "source": []
  },
  {
   "cell_type": "code",
   "execution_count": 5,
   "metadata": {},
   "outputs": [],
   "source": [
    "import pandas as pd\n",
    "\n",
    "i = pd.Series(index=pd.date_range('2018-04-09', periods=4, freq='1D20min'), data=np.NaN)"
   ]
  },
  {
   "cell_type": "code",
   "execution_count": 6,
   "metadata": {},
   "outputs": [
    {
     "data": {
      "text/plain": [
       "2018-04-09 00:00:00   NaN\n",
       "2018-04-10 00:20:00   NaN\n",
       "2018-04-11 00:40:00   NaN\n",
       "2018-04-12 01:00:00   NaN\n",
       "Freq: 1460T, dtype: float64"
      ]
     },
     "execution_count": 6,
     "metadata": {},
     "output_type": "execute_result"
    }
   ],
   "source": [
    "i"
   ]
  },
  {
   "cell_type": "code",
   "execution_count": null,
   "metadata": {},
   "outputs": [],
   "source": []
  },
  {
   "cell_type": "code",
   "execution_count": 2,
   "metadata": {},
   "outputs": [
    {
     "ename": "NameError",
     "evalue": "name 's' is not defined",
     "output_type": "error",
     "traceback": [
      "\u001b[0;31m---------------------------------------------------------------------------\u001b[0m",
      "\u001b[0;31mNameError\u001b[0m                                 Traceback (most recent call last)",
      "\u001b[0;32m~/GitHub/nwtc-ivalidate/compare.py\u001b[0m in \u001b[0;36m<module>\u001b[0;34m\u001b[0m\n\u001b[0;32m----> 1\u001b[0;31m \u001b[0ms\u001b[0m \u001b[0;34m=\u001b[0m \u001b[0ms\u001b[0m\u001b[0;34m.\u001b[0m\u001b[0masfreq\u001b[0m\u001b[0;34m(\u001b[0m\u001b[0;34m'm'\u001b[0m\u001b[0;34m)\u001b[0m\u001b[0;34m\u001b[0m\u001b[0;34m\u001b[0m\u001b[0m\n\u001b[0m",
      "\u001b[0;31mNameError\u001b[0m: name 's' is not defined"
     ]
    }
   ],
   "source": [
    "s = s.asfreq('m')"
   ]
  },
  {
   "cell_type": "code",
   "execution_count": 2,
   "metadata": {},
   "outputs": [],
   "source": [
    "df_marks = pd.DataFrame({'name': ['apple', 'banana', 'orange', 'mango'], \n",
    "                         'calories': [68, 74, 77, 78]})"
   ]
  },
  {
   "cell_type": "code",
   "execution_count": 3,
   "metadata": {},
   "outputs": [
    {
     "data": {
      "text/html": [
       "<div>\n",
       "<style scoped>\n",
       "    .dataframe tbody tr th:only-of-type {\n",
       "        vertical-align: middle;\n",
       "    }\n",
       "\n",
       "    .dataframe tbody tr th {\n",
       "        vertical-align: top;\n",
       "    }\n",
       "\n",
       "    .dataframe thead th {\n",
       "        text-align: right;\n",
       "    }\n",
       "</style>\n",
       "<table border=\"1\" class=\"dataframe\">\n",
       "  <thead>\n",
       "    <tr style=\"text-align: right;\">\n",
       "      <th></th>\n",
       "      <th>name</th>\n",
       "      <th>calories</th>\n",
       "    </tr>\n",
       "  </thead>\n",
       "  <tbody>\n",
       "    <tr>\n",
       "      <th>0</th>\n",
       "      <td>apple</td>\n",
       "      <td>68</td>\n",
       "    </tr>\n",
       "    <tr>\n",
       "      <th>1</th>\n",
       "      <td>banana</td>\n",
       "      <td>74</td>\n",
       "    </tr>\n",
       "    <tr>\n",
       "      <th>2</th>\n",
       "      <td>orange</td>\n",
       "      <td>77</td>\n",
       "    </tr>\n",
       "    <tr>\n",
       "      <th>3</th>\n",
       "      <td>mango</td>\n",
       "      <td>78</td>\n",
       "    </tr>\n",
       "  </tbody>\n",
       "</table>\n",
       "</div>"
      ],
      "text/plain": [
       "     name  calories\n",
       "0   apple        68\n",
       "1  banana        74\n",
       "2  orange        77\n",
       "3   mango        78"
      ]
     },
     "execution_count": 3,
     "metadata": {},
     "output_type": "execute_result"
    }
   ],
   "source": [
    "df_marks"
   ]
  },
  {
   "cell_type": "code",
   "execution_count": null,
   "metadata": {},
   "outputs": [],
   "source": []
  },
  {
   "cell_type": "code",
   "execution_count": 1,
   "metadata": {},
   "outputs": [
    {
     "ename": "NameError",
     "evalue": "name 'combine_df' is not defined",
     "output_type": "error",
     "traceback": [
      "\u001b[0;31m---------------------------------------------------------------------------\u001b[0m",
      "\u001b[0;31mNameError\u001b[0m                                 Traceback (most recent call last)",
      "\u001b[0;32m<ipython-input-1-f09fe5f9c7a7>\u001b[0m in \u001b[0;36m<module>\u001b[0;34m\u001b[0m\n\u001b[0;32m----> 1\u001b[0;31m \u001b[0mcombine_df\u001b[0m\u001b[0;34m\u001b[0m\u001b[0;34m\u001b[0m\u001b[0m\n\u001b[0m",
      "\u001b[0;31mNameError\u001b[0m: name 'combine_df' is not defined"
     ]
    }
   ],
   "source": [
    "combine_df"
   ]
  },
  {
   "cell_type": "code",
   "execution_count": null,
   "metadata": {},
   "outputs": [],
   "source": []
  },
  {
   "cell_type": "code",
   "execution_count": null,
   "metadata": {},
   "outputs": [],
   "source": []
  },
  {
   "cell_type": "code",
   "execution_count": 2,
   "metadata": {},
   "outputs": [
    {
     "name": "stdout",
     "output_type": "stream",
     "text": [
      "(1, 2)\n",
      "1\n",
      "(1, 3)\n",
      "1\n",
      "(1, 4)\n",
      "1\n",
      "(1, 5)\n",
      "1\n",
      "(1, 6)\n",
      "1\n",
      "(2, 3)\n",
      "2\n",
      "(2, 4)\n",
      "2\n",
      "(2, 5)\n",
      "2\n",
      "(2, 6)\n",
      "2\n",
      "(3, 4)\n",
      "3\n",
      "(3, 5)\n",
      "3\n",
      "(3, 6)\n",
      "3\n",
      "(4, 5)\n",
      "4\n",
      "(4, 6)\n",
      "4\n",
      "(5, 6)\n",
      "5\n"
     ]
    }
   ],
   "source": [
    "import itertools\n",
    "data = [1,2,3,4,5,6]\n",
    "for pair in itertools.combinations(data, 2):\n",
    "    print(pair)\n",
    "    print(pair[0])"
   ]
  },
  {
   "cell_type": "code",
   "execution_count": 3,
   "metadata": {},
   "outputs": [
    {
     "data": {
      "text/plain": [
       "'/Users/leec813/opt/anaconda3/envs/ivalid/bin/python'"
      ]
     },
     "execution_count": 3,
     "metadata": {},
     "output_type": "execute_result"
    }
   ],
   "source": [
    "import sys\n",
    "sys.executable"
   ]
  },
  {
   "cell_type": "code",
   "execution_count": 2,
   "metadata": {},
   "outputs": [
    {
     "name": "stdout",
     "output_type": "stream",
     "text": [
      "55\n"
     ]
    }
   ],
   "source": [
    "x = 'print(55)'\n",
    "eval(x)"
   ]
  },
  {
   "cell_type": "code",
   "execution_count": null,
   "metadata": {},
   "outputs": [],
   "source": []
  }
 ],
 "metadata": {
  "kernelspec": {
   "display_name": "py38 ivalid",
   "language": "python",
   "name": "ivalid"
  },
  "language_info": {
   "codemirror_mode": {
    "name": "ipython",
    "version": 3
   },
   "file_extension": ".py",
   "mimetype": "text/x-python",
   "name": "python",
   "nbconvert_exporter": "python",
   "pygments_lexer": "ipython3",
   "version": "3.8.8"
  },
  "toc": {
   "base_numbering": 1,
   "nav_menu": {},
   "number_sections": true,
   "sideBar": true,
   "skip_h1_title": false,
   "title_cell": "Table of Contents",
   "title_sidebar": "Contents",
   "toc_cell": false,
   "toc_position": {},
   "toc_section_display": true,
   "toc_window_display": false
  }
 },
 "nbformat": 4,
 "nbformat_minor": 4
}
